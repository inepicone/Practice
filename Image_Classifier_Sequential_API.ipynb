{
  "nbformat": 4,
  "nbformat_minor": 0,
  "metadata": {
    "colab": {
      "name": "Image_Classifier_Sequential_API.ipynb",
      "provenance": [],
      "authorship_tag": "ABX9TyPtsXMDGbMGfct3Xet3Tq0w",
      "include_colab_link": true
    },
    "kernelspec": {
      "name": "python3",
      "display_name": "Python 3"
    },
    "language_info": {
      "name": "python"
    }
  },
  "cells": [
    {
      "cell_type": "markdown",
      "metadata": {
        "id": "view-in-github",
        "colab_type": "text"
      },
      "source": [
        "<a href=\"https://colab.research.google.com/github/inepicone/Practice/blob/main/Image_Classifier_Sequential_API.ipynb\" target=\"_parent\"><img src=\"https://colab.research.google.com/assets/colab-badge.svg\" alt=\"Open In Colab\"/></a>"
      ]
    },
    {
      "cell_type": "code",
      "execution_count": 52,
      "metadata": {
        "id": "uqAWNnI7C-P2"
      },
      "outputs": [],
      "source": [
        "# Basic operation labaries:\n",
        "import numpy              as np\n",
        "import pandas             as pd\n",
        "\n",
        "# ML\n",
        "import  tensorflow as     tf\n",
        "from    tensorflow import keras\n",
        "\n",
        "# visualization:\n",
        "import matplotlib.pyplot as plt"
      ]
    },
    {
      "cell_type": "markdown",
      "source": [
        "Uso la bd MNIST de prueba de keras"
      ],
      "metadata": {
        "id": "eVkud2uxWkb7"
      }
    },
    {
      "cell_type": "code",
      "source": [
        "fashion_mnist = keras.datasets.fashion_mnist\n",
        "(X_train_full, y_train_full), (X_test, y_test) = fashion_mnist.load_data()"
      ],
      "metadata": {
        "colab": {
          "base_uri": "https://localhost:8080/"
        },
        "id": "t84WdMB9WMFo",
        "outputId": "4337b0a3-bbf2-4d74-cf98-6a30f1210a29"
      },
      "execution_count": 3,
      "outputs": [
        {
          "output_type": "stream",
          "name": "stdout",
          "text": [
            "Downloading data from https://storage.googleapis.com/tensorflow/tf-keras-datasets/train-labels-idx1-ubyte.gz\n",
            "32768/29515 [=================================] - 0s 0us/step\n",
            "40960/29515 [=========================================] - 0s 0us/step\n",
            "Downloading data from https://storage.googleapis.com/tensorflow/tf-keras-datasets/train-images-idx3-ubyte.gz\n",
            "26427392/26421880 [==============================] - 0s 0us/step\n",
            "26435584/26421880 [==============================] - 0s 0us/step\n",
            "Downloading data from https://storage.googleapis.com/tensorflow/tf-keras-datasets/t10k-labels-idx1-ubyte.gz\n",
            "16384/5148 [===============================================================================================] - 0s 0us/step\n",
            "Downloading data from https://storage.googleapis.com/tensorflow/tf-keras-datasets/t10k-images-idx3-ubyte.gz\n",
            "4423680/4422102 [==============================] - 0s 0us/step\n",
            "4431872/4422102 [==============================] - 0s 0us/step\n"
          ]
        }
      ]
    },
    {
      "cell_type": "code",
      "source": [
        "# lets see the size and the dtype:\n",
        "\n",
        "print(X_train_full.shape)\n",
        "print(X_train_full.dtype)"
      ],
      "metadata": {
        "colab": {
          "base_uri": "https://localhost:8080/"
        },
        "id": "T29jFOI7WysJ",
        "outputId": "d8780276-c44d-4aa9-c933-b2a79c863fd1"
      },
      "execution_count": 4,
      "outputs": [
        {
          "output_type": "stream",
          "name": "stdout",
          "text": [
            "(60000, 28, 28)\n",
            "uint8\n"
          ]
        }
      ]
    },
    {
      "cell_type": "markdown",
      "source": [
        "SO we have 60000 images of 28x28 all int8 NOT FLOAT"
      ],
      "metadata": {
        "id": "R7f8aHwZXFWy"
      }
    },
    {
      "cell_type": "markdown",
      "source": [
        "Note that the dataset is already split into a training set and a test set, but there is no\n",
        "validation set, so let’s create one. Moreover, since we are going to train the neural net‐\n",
        "work using Gradient Descent, we must scale the input features. For simplicity, we just\n",
        "scale the pixel intensities down to the 0-1 range by dividing them by 255.0 (this also\n",
        "converts them to floats)"
      ],
      "metadata": {
        "id": "u3FxGvHsXWzI"
      }
    },
    {
      "cell_type": "code",
      "source": [
        "X_valid, X_train = X_train_full[:5000] / 255.0, X_train_full[5000:] / 255.0\n",
        "y_valid, y_train = y_train_full[:5000], y_train_full[5000:]\n"
      ],
      "metadata": {
        "id": "3T3sxDanXDwX"
      },
      "execution_count": 5,
      "outputs": []
    },
    {
      "cell_type": "code",
      "source": [
        "print('X_valid.shape: ', X_valid.shape)\n",
        "print('X_valid.dtype: ', X_valid.dtype)\n",
        "print('X_train.shape: ', X_train.shape)\n",
        "print('X_train.dtype: ', X_train.dtype)\n",
        "print('y_valid.shape: ', y_valid.shape)\n",
        "print('y_valid.dtype: ', y_valid.dtype)\n",
        "print('y_train.shape: ', y_train.shape)\n",
        "print('y_train.dtype: ', y_train.dtype)"
      ],
      "metadata": {
        "colab": {
          "base_uri": "https://localhost:8080/"
        },
        "id": "EVf4GZ69Xegf",
        "outputId": "a34c20d2-1a91-4ed3-8dec-1887e18bf677"
      },
      "execution_count": 7,
      "outputs": [
        {
          "output_type": "stream",
          "name": "stdout",
          "text": [
            "X_valid.shape:  (5000, 28, 28)\n",
            "X_valid.dtype:  float64\n",
            "X_train.shape:  (55000, 28, 28)\n",
            "X_train.dtype:  float64\n",
            "y_valid.shape:  (5000,)\n",
            "y_valid.dtype:  uint8\n",
            "y_train.shape:  (55000,)\n",
            "y_train.dtype:  uint8\n"
          ]
        }
      ]
    },
    {
      "cell_type": "code",
      "source": [
        "class_names = [\"T-shirt\", \"Trouser\", \"Pullover\", \"Dress\", \"Coat\", \"Sandal\", \"Shirt\", \"Sneaker\", \"Bag\", \"Boot\", \"Skirt\"]\n"
      ],
      "metadata": {
        "id": "sYSOkunpadWJ"
      },
      "execution_count": 25,
      "outputs": []
    },
    {
      "cell_type": "code",
      "source": [
        "# Now let’s build the neural network! Here is a classification MLP with two hidden layers:\n",
        "# 1) we call/create the model:\n",
        "model = keras.models.Sequential()\n",
        "\n",
        "# 2) Next, we build the first layer and add it to the model. It is a Flatten layer whose\n",
        "# role is simply to convert each input image into a 1D array: if it receives input data\n",
        "# X, it computes X.reshape(-1, 1). \n",
        "# This layer does not have any parameters, it is just there to do some simple preprocessing. \n",
        "# Since it is the first layer in the model, we should specify the input_shape: \n",
        "# this does not include the batch size, only the shape of the instances. \n",
        "model.add(keras.layers.Flatten(input_shape=[28, 28]))\n",
        "\n",
        "# 3) and 4) Next we add a Dense hidden layer with 300 neurons. \n",
        "# It will use the ReLU activation function. \n",
        "# Each Dense layer manages its own weight matrix, containing all the\n",
        "# connection weights between the neurons and their inputs. It also manages a \n",
        "# vector of bias terms (one per neuron). When it receives some input data, it computes\n",
        "# •Next we add a second Dense hidden layer with 100 neurons, also using the ReLU\n",
        "# activation function.\n",
        "\n",
        "model.add(keras.layers.Dense(300, activation=\"relu\"))\n",
        "model.add(keras.layers.Dense(100, activation=\"relu\"))\n",
        "\n",
        "# 5)Finally, we add a Dense output layer with 11 neurons (one per class), using the\n",
        "# softmax activation function (because the classes are exclusive).\n",
        "model.add(keras.layers.Dense(11, activation=\"softmax\"))"
      ],
      "metadata": {
        "id": "ku_IOYanawse"
      },
      "execution_count": 26,
      "outputs": []
    },
    {
      "cell_type": "code",
      "source": [
        "model = keras.models.Sequential([\n",
        " keras.layers.Flatten(input_shape=[28, 28]),\n",
        " keras.layers.Dense(300, activation=\"relu\"),\n",
        " keras.layers.Dense(100, activation=\"relu\"),\n",
        " keras.layers.Dense(11, activation=\"softmax\")\n",
        "])\n"
      ],
      "metadata": {
        "id": "pBfnue_zwX23"
      },
      "execution_count": 28,
      "outputs": []
    },
    {
      "cell_type": "code",
      "source": [
        "model.summary()\n"
      ],
      "metadata": {
        "colab": {
          "base_uri": "https://localhost:8080/"
        },
        "id": "ngt6qxV6x8ZJ",
        "outputId": "fe86599f-767b-4af4-cd8c-1a62fafbb80f"
      },
      "execution_count": 30,
      "outputs": [
        {
          "output_type": "stream",
          "name": "stdout",
          "text": [
            "Model: \"sequential_2\"\n",
            "_________________________________________________________________\n",
            " Layer (type)                Output Shape              Param #   \n",
            "=================================================================\n",
            " flatten_2 (Flatten)         (None, 784)               0         \n",
            "                                                                 \n",
            " dense_6 (Dense)             (None, 300)               235500    \n",
            "                                                                 \n",
            " dense_7 (Dense)             (None, 100)               30100     \n",
            "                                                                 \n",
            " dense_8 (Dense)             (None, 11)                1111      \n",
            "                                                                 \n",
            "=================================================================\n",
            "Total params: 266,711\n",
            "Trainable params: 266,711\n",
            "Non-trainable params: 0\n",
            "_________________________________________________________________\n"
          ]
        }
      ]
    },
    {
      "cell_type": "code",
      "source": [
        "model.layers\n"
      ],
      "metadata": {
        "colab": {
          "base_uri": "https://localhost:8080/"
        },
        "id": "4RRA6aUAyMDa",
        "outputId": "c5417d86-8b33-45b2-9839-38815a70de0a"
      },
      "execution_count": 31,
      "outputs": [
        {
          "output_type": "execute_result",
          "data": {
            "text/plain": [
              "[<keras.layers.core.flatten.Flatten at 0x7fa62dcb1f10>,\n",
              " <keras.layers.core.dense.Dense at 0x7fa62dca9d90>,\n",
              " <keras.layers.core.dense.Dense at 0x7fa62dc67090>,\n",
              " <keras.layers.core.dense.Dense at 0x7fa62dc67450>]"
            ]
          },
          "metadata": {},
          "execution_count": 31
        }
      ]
    },
    {
      "cell_type": "code",
      "source": [
        "name_1 = model.layers[1].name\n",
        "print(name_1)"
      ],
      "metadata": {
        "colab": {
          "base_uri": "https://localhost:8080/"
        },
        "id": "grIQ-vqfyOLS",
        "outputId": "29d0e2b2-996a-403b-cbc0-1444f4800676"
      },
      "execution_count": 42,
      "outputs": [
        {
          "output_type": "stream",
          "name": "stdout",
          "text": [
            "dense_6\n"
          ]
        }
      ]
    },
    {
      "cell_type": "code",
      "source": [
        "model.get_layer('dense_6').name\n"
      ],
      "metadata": {
        "colab": {
          "base_uri": "https://localhost:8080/",
          "height": 36
        },
        "id": "1vY_OLMHyf5p",
        "outputId": "f7d7ff1f-eaec-4ae2-f645-e660d65d9dfe"
      },
      "execution_count": 36,
      "outputs": [
        {
          "output_type": "execute_result",
          "data": {
            "text/plain": [
              "'dense_6'"
            ],
            "application/vnd.google.colaboratory.intrinsic+json": {
              "type": "string"
            }
          },
          "metadata": {},
          "execution_count": 36
        }
      ]
    },
    {
      "cell_type": "markdown",
      "source": [
        "All the parameters of a layer can be accessed using its get_weights() and\n",
        "set_weights() method."
      ],
      "metadata": {
        "id": "LqEuA1Cy1-_o"
      }
    },
    {
      "cell_type": "code",
      "source": [
        "# weights, biases = model.get_weights()\n",
        "# print( weights)\n",
        "# print(weights.shape)\n",
        "# print(biases)\n",
        "# print(biases.shape)"
      ],
      "metadata": {
        "id": "VGgaNVvb1-it"
      },
      "execution_count": 47,
      "outputs": []
    },
    {
      "cell_type": "markdown",
      "source": [
        "Compiling the Model\n",
        "\n",
        "After a model is created, we must call its compile() method to specify the loss func‐\n",
        "tion and the optimizer to use. Optionally, we can also specify a list of extra metrics to\n",
        "compute during training and evaluation:\n"
      ],
      "metadata": {
        "id": "7CfZBaAx3pZc"
      }
    },
    {
      "cell_type": "code",
      "source": [
        "model.compile(loss=\"sparse_categorical_crossentropy\",\n",
        "              optimizer=\"sgd\",\n",
        "              metrics=[\"accuracy\"])"
      ],
      "metadata": {
        "id": "XLAF1xkT3mA4"
      },
      "execution_count": 49,
      "outputs": []
    },
    {
      "cell_type": "markdown",
      "source": [
        "First, we use the \"sparse_categorical_crossen\n",
        "tropy\" loss because we have sparse labels (i.e., for each instance there is just a target\n",
        "class index, from 0 to 9 in this case), and the classes are exclusive. \n",
        "\n",
        "If instead we had\n",
        "one target probability per class for each instance (such as one-hot vectors, e.g. [0.,\n",
        "0., 0., 1., 0., 0., 0., 0., 0., 0.] to represent class 3), then we would need\n",
        "to use the \"categorical_crossentropy\" loss instead. \n",
        "\n",
        "If we were doing binary classi‐\n",
        "fication (with one or more binary labels), then we would use the \"sigmoid\" (i.e.,\n",
        "logistic) activation function in the output layer instead of the \"softmax\" activation\n",
        "function, and we would use the \"binary_crossentropy\" loss."
      ],
      "metadata": {
        "id": "gs_cgO_A38r5"
      }
    },
    {
      "cell_type": "markdown",
      "source": [
        "Regarding the optimizer, \"sgd\" simply means that we will train the model\n",
        "using simple Stochastic Gradient Descent."
      ],
      "metadata": {
        "id": "qVW7VsCq4Q6M"
      }
    },
    {
      "cell_type": "markdown",
      "source": [
        "# Training and Evaluating the Model\n",
        "Now the model is ready to be trained. \n",
        "\n",
        "For this we simply need to call its fit() method. \n",
        "\n",
        "We pass it the input features (X_train) and the target classes (y_train), as well as the number of epochs to train (or else it would default to just 1, which would definitely not be enough to converge to a good solution). \n",
        "\n",
        "We also pass a validation set (this is optional): Keras will measure the loss and the extra metrics on this set at the\n",
        "end of each epoch, which is very useful to see how well the model really performs: \n",
        "\n",
        "  -if the performance on the training set is much better than on the validation set, our model is probably overfitting the training set (or there is a bug, such as a data mismatch between the training set and the validation set):\n"
      ],
      "metadata": {
        "id": "-YlSGuyP5oYt"
      }
    },
    {
      "cell_type": "code",
      "source": [
        "history = model.fit(X_train, y_train, epochs=30, validation_data=(X_valid, y_valid))"
      ],
      "metadata": {
        "colab": {
          "base_uri": "https://localhost:8080/"
        },
        "id": "tM0oH_3g33NL",
        "outputId": "24f45170-684c-44a7-ebda-b0f103809ecf"
      },
      "execution_count": 50,
      "outputs": [
        {
          "output_type": "stream",
          "name": "stdout",
          "text": [
            "Epoch 1/30\n",
            "1719/1719 [==============================] - 6s 3ms/step - loss: 0.7201 - accuracy: 0.7637 - val_loss: 0.5521 - val_accuracy: 0.8128\n",
            "Epoch 2/30\n",
            "1719/1719 [==============================] - 5s 3ms/step - loss: 0.4856 - accuracy: 0.8308 - val_loss: 0.4508 - val_accuracy: 0.8520\n",
            "Epoch 3/30\n",
            "1719/1719 [==============================] - 5s 3ms/step - loss: 0.4407 - accuracy: 0.8455 - val_loss: 0.4122 - val_accuracy: 0.8624\n",
            "Epoch 4/30\n",
            "1719/1719 [==============================] - 5s 3ms/step - loss: 0.4128 - accuracy: 0.8548 - val_loss: 0.4438 - val_accuracy: 0.8348\n",
            "Epoch 5/30\n",
            "1719/1719 [==============================] - 5s 3ms/step - loss: 0.3935 - accuracy: 0.8612 - val_loss: 0.4260 - val_accuracy: 0.8580\n",
            "Epoch 6/30\n",
            "1719/1719 [==============================] - 5s 3ms/step - loss: 0.3780 - accuracy: 0.8665 - val_loss: 0.3813 - val_accuracy: 0.8682\n",
            "Epoch 7/30\n",
            "1719/1719 [==============================] - 5s 3ms/step - loss: 0.3637 - accuracy: 0.8713 - val_loss: 0.3726 - val_accuracy: 0.8728\n",
            "Epoch 8/30\n",
            "1719/1719 [==============================] - 5s 3ms/step - loss: 0.3525 - accuracy: 0.8746 - val_loss: 0.3756 - val_accuracy: 0.8652\n",
            "Epoch 9/30\n",
            "1719/1719 [==============================] - 5s 3ms/step - loss: 0.3429 - accuracy: 0.8781 - val_loss: 0.3590 - val_accuracy: 0.8698\n",
            "Epoch 10/30\n",
            "1719/1719 [==============================] - 5s 3ms/step - loss: 0.3327 - accuracy: 0.8815 - val_loss: 0.3432 - val_accuracy: 0.8788\n",
            "Epoch 11/30\n",
            "1719/1719 [==============================] - 5s 3ms/step - loss: 0.3257 - accuracy: 0.8835 - val_loss: 0.3671 - val_accuracy: 0.8710\n",
            "Epoch 12/30\n",
            "1719/1719 [==============================] - 5s 3ms/step - loss: 0.3175 - accuracy: 0.8866 - val_loss: 0.3538 - val_accuracy: 0.8760\n",
            "Epoch 13/30\n",
            "1719/1719 [==============================] - 5s 3ms/step - loss: 0.3113 - accuracy: 0.8881 - val_loss: 0.3313 - val_accuracy: 0.8846\n",
            "Epoch 14/30\n",
            "1719/1719 [==============================] - 5s 3ms/step - loss: 0.3037 - accuracy: 0.8910 - val_loss: 0.3482 - val_accuracy: 0.8744\n",
            "Epoch 15/30\n",
            "1719/1719 [==============================] - 5s 3ms/step - loss: 0.2968 - accuracy: 0.8930 - val_loss: 0.3376 - val_accuracy: 0.8806\n",
            "Epoch 16/30\n",
            "1719/1719 [==============================] - 5s 3ms/step - loss: 0.2913 - accuracy: 0.8936 - val_loss: 0.3185 - val_accuracy: 0.8882\n",
            "Epoch 17/30\n",
            "1719/1719 [==============================] - 5s 3ms/step - loss: 0.2862 - accuracy: 0.8976 - val_loss: 0.3192 - val_accuracy: 0.8900\n",
            "Epoch 18/30\n",
            "1719/1719 [==============================] - 5s 3ms/step - loss: 0.2802 - accuracy: 0.8993 - val_loss: 0.3394 - val_accuracy: 0.8762\n",
            "Epoch 19/30\n",
            "1719/1719 [==============================] - 5s 3ms/step - loss: 0.2753 - accuracy: 0.9007 - val_loss: 0.3041 - val_accuracy: 0.8890\n",
            "Epoch 20/30\n",
            "1719/1719 [==============================] - 5s 3ms/step - loss: 0.2713 - accuracy: 0.9027 - val_loss: 0.3151 - val_accuracy: 0.8892\n",
            "Epoch 21/30\n",
            "1719/1719 [==============================] - 5s 3ms/step - loss: 0.2651 - accuracy: 0.9049 - val_loss: 0.3073 - val_accuracy: 0.8928\n",
            "Epoch 22/30\n",
            "1719/1719 [==============================] - 5s 3ms/step - loss: 0.2605 - accuracy: 0.9074 - val_loss: 0.2990 - val_accuracy: 0.8900\n",
            "Epoch 23/30\n",
            "1719/1719 [==============================] - 5s 3ms/step - loss: 0.2559 - accuracy: 0.9081 - val_loss: 0.3084 - val_accuracy: 0.8892\n",
            "Epoch 24/30\n",
            "1719/1719 [==============================] - 5s 3ms/step - loss: 0.2522 - accuracy: 0.9087 - val_loss: 0.2990 - val_accuracy: 0.8908\n",
            "Epoch 25/30\n",
            "1719/1719 [==============================] - 5s 3ms/step - loss: 0.2466 - accuracy: 0.9108 - val_loss: 0.2960 - val_accuracy: 0.8938\n",
            "Epoch 26/30\n",
            "1719/1719 [==============================] - 5s 3ms/step - loss: 0.2439 - accuracy: 0.9114 - val_loss: 0.2988 - val_accuracy: 0.8946\n",
            "Epoch 27/30\n",
            "1719/1719 [==============================] - 5s 3ms/step - loss: 0.2385 - accuracy: 0.9140 - val_loss: 0.2934 - val_accuracy: 0.8932\n",
            "Epoch 28/30\n",
            "1719/1719 [==============================] - 5s 3ms/step - loss: 0.2364 - accuracy: 0.9158 - val_loss: 0.2972 - val_accuracy: 0.8920\n",
            "Epoch 29/30\n",
            "1719/1719 [==============================] - 5s 3ms/step - loss: 0.2315 - accuracy: 0.9164 - val_loss: 0.2941 - val_accuracy: 0.8924\n",
            "Epoch 30/30\n",
            "1719/1719 [==============================] - 6s 3ms/step - loss: 0.2279 - accuracy: 0.9177 - val_loss: 0.3044 - val_accuracy: 0.8912\n"
          ]
        }
      ]
    },
    {
      "cell_type": "markdown",
      "source": [
        "A little trick: Instead of passing a validation set using the validation_data argument, we could instead set validation_split to the ratio of the training set that you want Keras to use for validation (e.g., 0.1).\n"
      ],
      "metadata": {
        "id": "GqU141FP63an"
      }
    },
    {
      "cell_type": "code",
      "source": [
        "pd.DataFrame(history.history).plot(figsize=(8, 5))\n",
        "plt.grid(True)\n",
        "plt.gca().set_ylim(0, 1) # set the vertical range to [0-1]\n",
        "plt.show()"
      ],
      "metadata": {
        "colab": {
          "base_uri": "https://localhost:8080/",
          "height": 324
        },
        "id": "meAAJ-zs6_Mo",
        "outputId": "60015e33-aadf-4cef-bd35-7beec7d24152"
      },
      "execution_count": 53,
      "outputs": [
        {
          "output_type": "display_data",
          "data": {
            "text/plain": [
              "<Figure size 576x360 with 1 Axes>"
            ],
            "image/png": "[encoded data removed]"
          },
          "metadata": {
            "needs_background": "light"
          }
        }
      ]
    },
    {
      "cell_type": "markdown",
      "source": [
        "We can see that both the training and validation accuracy steadily increase during training, while the training and validation loss decrease. SUPER! \n",
        "\n",
        "Moreover, the validation curves are quite close to the training curves, which means that there is not too much overfitting. \n",
        "\n"
      ],
      "metadata": {
        "id": "9PiHJAfjNB4m"
      }
    },
    {
      "cell_type": "markdown",
      "source": [
        "# Using the Model to Make Predictions\n",
        "\n",
        "Next, we can use the model’s predict() method to make predictions on new instances."
      ],
      "metadata": {
        "id": "q2yO509lNki6"
      }
    },
    {
      "cell_type": "code",
      "source": [
        "X_new = X_test[:3]\n",
        "y_proba = model.predict(X_new)\n",
        "y_proba.round(2)"
      ],
      "metadata": {
        "colab": {
          "base_uri": "https://localhost:8080/"
        },
        "id": "kzlodLBCN7DJ",
        "outputId": "8b4b5017-8dfd-4561-9023-71efdcedb2d6"
      },
      "execution_count": 54,
      "outputs": [
        {
          "output_type": "execute_result",
          "data": {
            "text/plain": [
              "array([[0., 0., 0., 0., 0., 0., 0., 0., 0., 1., 0.],\n",
              "       [0., 0., 1., 0., 0., 0., 0., 0., 0., 0., 0.],\n",
              "       [0., 1., 0., 0., 0., 0., 0., 0., 0., 0., 0.]], dtype=float32)"
            ]
          },
          "metadata": {},
          "execution_count": 54
        }
      ]
    }
  ]
}